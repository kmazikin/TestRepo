{
 "cells": [
  {
   "cell_type": "markdown",
   "id": "26ffa761-c048-4fd8-8138-7ff1371174e8",
   "metadata": {},
   "source": [
    "# Data Science Tools and Ecosystem"
   ]
  },
  {
   "cell_type": "markdown",
   "id": "d34043e4-c248-4c27-8fe2-3906af8a1e17",
   "metadata": {},
   "source": [
    "In this notebook, Data Science Tools and Ecosystem are summarized."
   ]
  },
  {
   "cell_type": "markdown",
   "id": "768497ca-12c2-49c3-ada8-b263363e3c6b",
   "metadata": {},
   "source": [
    "Some of the popular languages that Data Scientists use are:"
   ]
  },
  {
   "cell_type": "markdown",
   "id": "8370039d-50c5-4fa3-88c9-f535269c81db",
   "metadata": {},
   "source": [
    "**Objectives:**\n",
    "- Puthon\n",
    "- R\n",
    "- SQL\n",
    "- Java\n",
    "- Scala"
   ]
  },
  {
   "cell_type": "markdown",
   "id": "77207274-f1c5-49b5-8ccd-457dee2b2515",
   "metadata": {},
   "source": [
    "1. Python\n",
    "2. R\n",
    "3. SQL"
   ]
  },
  {
   "cell_type": "markdown",
   "id": "67b7a222-ec3e-44b9-9898-6a64f7807c07",
   "metadata": {},
   "source": [
    "Some of the commonly used libraries used by Data Scientists include:\n",
    "1. NumPy\n",
    "2. Matplotlib\n",
    "3. Scikit-learn"
   ]
  },
  {
   "cell_type": "markdown",
   "id": "03ebcbaa-085c-4d93-8ecf-3ec73fba4fa1",
   "metadata": {},
   "source": [
    "|Data Science Tools|\n",
    "|------------------|\n",
    "|RStudio           |\n",
    "|Apache Spark      |\n",
    "|TensorFlow        |\n"
   ]
  },
  {
   "cell_type": "markdown",
   "id": "e05bfe39-90f8-46d8-b273-0c198a592e37",
   "metadata": {},
   "source": [
    "### Below are a few examples of evaluating arithmetic expressions in Python\n"
   ]
  },
  {
   "cell_type": "markdown",
   "id": "d917a501-d7be-4f6a-9226-4f64f0898375",
   "metadata": {},
   "source": [
    "*This a simple arithmetic expression to mutiply then add integers*"
   ]
  },
  {
   "cell_type": "code",
   "execution_count": null,
   "id": "c6584436-eba4-47a9-a60a-60def236e330",
   "metadata": {},
   "outputs": [],
   "source": [
    "(3*4)+5"
   ]
  },
  {
   "cell_type": "code",
   "execution_count": null,
   "id": "a9cc17df-ccd1-4724-891b-0211e35ab0fb",
   "metadata": {},
   "outputs": [],
   "source": [
    "17"
   ]
  },
  {
   "cell_type": "markdown",
   "id": "355299c3-63af-4a4a-b7ff-35a5e3eff8c6",
   "metadata": {},
   "source": [
    "*This will convert 200 minutes to hours by diving by 60*"
   ]
  },
  {
   "cell_type": "code",
   "execution_count": 3,
   "id": "f08988d4-d79b-48b8-981f-2f90174d9e36",
   "metadata": {},
   "outputs": [
    {
     "name": "stdout",
     "output_type": "stream",
     "text": [
      "200 minutes is equal to 3.3333333333333335 hours\n"
     ]
    }
   ],
   "source": [
    "def minutes_to_hours(minutes: int) -> float:\n",
    "    \"\"\"\n",
    "    Convert minutes to hours.\n",
    "    \n",
    "    Args:\n",
    "        minutes (int): The number of minutes to convert.\n",
    "        \n",
    "    Returns:\n",
    "        float: The equivalent time in hours.\n",
    "    \"\"\"\n",
    "    return minutes / 60\n",
    "\n",
    "# Example usage\n",
    "minutes = 200\n",
    "hours = minutes_to_hours(minutes)\n",
    "print(f\"{minutes} minutes is equal to {hours} hours\")"
   ]
  },
  {
   "cell_type": "markdown",
   "id": "7081ebe7-4159-4de5-bc9c-6eb5d9991b4f",
   "metadata": {},
   "source": [
    "## Author\n",
    "Kostiantyn\n"
   ]
  }
 ],
 "metadata": {
  "kernelspec": {
   "display_name": "Python [conda env:base] *",
   "language": "python",
   "name": "conda-base-py"
  },
  "language_info": {
   "codemirror_mode": {
    "name": "ipython",
    "version": 3
   },
   "file_extension": ".py",
   "mimetype": "text/x-python",
   "name": "python",
   "nbconvert_exporter": "python",
   "pygments_lexer": "ipython3",
   "version": "3.12.7"
  }
 },
 "nbformat": 4,
 "nbformat_minor": 5
}
